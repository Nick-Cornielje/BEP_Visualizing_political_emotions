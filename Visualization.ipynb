{
 "cells": [
  {
   "cell_type": "code",
   "execution_count": 1,
   "metadata": {},
   "outputs": [
    {
     "name": "stdout",
     "output_type": "stream",
     "text": [
      "WARNING:tensorflow:From c:\\Users\\Nick Cornielje\\miniconda3\\Lib\\site-packages\\tf_keras\\src\\losses.py:2976: The name tf.losses.sparse_softmax_cross_entropy is deprecated. Please use tf.compat.v1.losses.sparse_softmax_cross_entropy instead.\n",
      "\n"
     ]
    }
   ],
   "source": [
    "from deepface import DeepFace\n",
    "import pandas as pd\n",
    "import os\n",
    "import unicodedata\n",
    "import matplotlib.pyplot as plt\n",
    "import plotly.express as px\n",
    "import plotly.graph_objects as go\n",
    "import dash\n",
    "from dash import dcc, html, Input, Output"
   ]
  },
  {
   "cell_type": "code",
   "execution_count": 2,
   "metadata": {},
   "outputs": [],
   "source": [
    "\n",
    "df = pd.read_csv('deepface_emotions_combined.csv')"
   ]
  },
  {
   "cell_type": "code",
   "execution_count": 3,
   "metadata": {},
   "outputs": [
    {
     "name": "stdout",
     "output_type": "stream",
     "text": [
      "                   Person  Photo Count\n",
      "0          Thierry Baudet          224\n",
      "1          Dilan Yesilgoz          136\n",
      "2   Caroline van der Plas          110\n",
      "3          Joost Eerdmans          106\n",
      "4      Lilian Marijnissen           98\n",
      "5          Henri Bontebal           93\n",
      "6              Rob Jetten           88\n",
      "7          Pieter Omtzigt           80\n",
      "8         Esther Ouwehand           76\n",
      "9           Geert Wilders           74\n",
      "10     Stephan van Baarle           59\n",
      "11          Mirjam Bikker           47\n",
      "12       Frans Timmermans           39\n",
      "13         Laurens Dassen           38\n",
      "14        Wybren van Haga           23\n",
      "15              Edson Olf           17\n",
      "16    Kees van der Staaij            8\n"
     ]
    }
   ],
   "source": [
    "photo_counts = df['Person'].value_counts().reset_index()\n",
    "photo_counts.columns = ['Person', 'Photo Count']\n",
    "\n",
    "# Display the table\n",
    "print(photo_counts)"
   ]
  },
  {
   "cell_type": "code",
   "execution_count": 4,
   "metadata": {},
   "outputs": [
    {
     "data": {
      "application/vnd.jupyter.widget-view+json": {
       "model_id": "ce57711740734082b515749fbbf9aa8d",
       "version_major": 2,
       "version_minor": 0
      },
      "text/plain": [
       "VBox(children=(Dropdown(description='Select Person:', layout=Layout(width='400px'), options=('Caroline van der…"
      ]
     },
     "metadata": {},
     "output_type": "display_data"
    },
    {
     "data": {
      "application/vnd.jupyter.widget-view+json": {
       "model_id": "9599c150546449ceb941ba45ac77be40",
       "version_major": 2,
       "version_minor": 0
      },
      "text/plain": [
       "Output()"
      ]
     },
     "metadata": {},
     "output_type": "display_data"
    }
   ],
   "source": [
    "import pandas as pd\n",
    "import plotly.express as px\n",
    "import ipywidgets as widgets\n",
    "from IPython.display import display\n",
    "\n",
    "# Define emotion color palette\n",
    "emotion_colors = {\n",
    "    'angry': '#D33F49',\n",
    "    'disgust': '#7DAF75',\n",
    "    'fear': '#735D78',\n",
    "    'happy': '#F4D35E',\n",
    "    'sad': '#577590',\n",
    "    'surprise': '#F18F01',\n",
    "    'neutral': '#B0BEC5'\n",
    "}\n",
    "\n",
    "# Prepare data\n",
    "df['Source'] = df['Folder'].apply(lambda x: 'Instagram' if x == 'Instagram' else 'News')\n",
    "\n",
    "emotion_counts = df.groupby(['Person', 'Source', 'Dominant Emotion']).size().reset_index(name='Count')\n",
    "total_counts = emotion_counts.groupby(['Person', 'Source'])['Count'].transform('sum')\n",
    "emotion_counts['Percentage'] = (emotion_counts['Count'] / total_counts) * 100\n",
    "\n",
    "# Create dropdown widget\n",
    "person_selector = widgets.Dropdown(\n",
    "    options=sorted(emotion_counts['Person'].unique()),\n",
    "    description='Select Person:',\n",
    "    layout=widgets.Layout(width='400px')\n",
    ")\n",
    "\n",
    "# Function to update plot\n",
    "def plot_emotion_comparison(person):\n",
    "    # Filter and fill missing combinations\n",
    "    person_df = emotion_counts[emotion_counts['Person'] == person].copy()\n",
    "    all_emotions = list(emotion_colors.keys())\n",
    "    person_df = person_df.set_index(['Source', 'Dominant Emotion']).unstack(fill_value=0).stack().reset_index()\n",
    "    person_df = person_df[person_df['Dominant Emotion'].isin(all_emotions)]\n",
    "\n",
    "    # Create grouped bar chart\n",
    "    fig = px.bar(\n",
    "        person_df,\n",
    "        x='Dominant Emotion',\n",
    "        y='Percentage',\n",
    "        color='Source',\n",
    "        barmode='group',\n",
    "        category_orders={'Dominant Emotion': all_emotions},\n",
    "        color_discrete_map={'Instagram': '#1f77b4', 'News': '#ff7f0e'},\n",
    "        title=f\"Emotion Comparison: Instagram vs News for {person}\",\n",
    "        labels={'Dominant Emotion': 'Emotion', 'Percentage': '% of Dominant Emotion'}\n",
    "    )\n",
    "\n",
    "    fig.update_traces(marker_line_width=1.5, marker_line_color='white')\n",
    "    fig.update_layout(height=500, width=900)\n",
    "    fig.show()  # Only show, don't return\n",
    "\n",
    "# Build interface without returning the fig\n",
    "ui = widgets.VBox([person_selector])\n",
    "out = widgets.interactive_output(plot_emotion_comparison, {'person': person_selector})\n",
    "\n",
    "display(ui, out)\n"
   ]
  },
  {
   "cell_type": "code",
   "execution_count": null,
   "metadata": {},
   "outputs": [],
   "source": [
    "\n"
   ]
  },
  {
   "cell_type": "code",
   "execution_count": 5,
   "metadata": {},
   "outputs": [],
   "source": [
    "political_df = pd.read_csv(\"Political_Orientation_Data.csv\")\n",
    "\n",
    "\n",
    "df[\"Person\"] = df[\"Person\"].replace(\"Dilan Yesilgoz\", \"Dilan Yesilgöz\")\n",
    "dataframe_political = df.merge(political_df, on=\"Person\", how=\"left\")"
   ]
  },
  {
   "cell_type": "code",
   "execution_count": 6,
   "metadata": {},
   "outputs": [
    {
     "data": {
      "application/vnd.plotly.v1+json": {
       "config": {
        "plotlyServerURL": "https://plot.ly"
       },
       "data": [
        {
         "customdata": [
          [
           "BBB"
          ],
          [
           "BVNL"
          ],
          [
           "Bij1"
          ],
          [
           "D66"
          ],
          [
           "Denk"
          ],
          [
           "FVD"
          ],
          [
           "GL-PVDA"
          ],
          [
           "JA21"
          ],
          [
           "NSC"
          ],
          [
           "PVV"
          ],
          [
           "PvdD"
          ],
          [
           "SP"
          ],
          [
           "VVD"
          ],
          [
           "Volt"
          ]
         ],
         "hovertemplate": "Left/Right=%{x}<br>Progressive/Conservative=%{y}<extra></extra>",
         "legendgroup": "",
         "marker": {
          "color": "blue",
          "size": 10,
          "symbol": "circle"
         },
         "mode": "markers+text",
         "name": "",
         "orientation": "v",
         "showlegend": false,
         "text": [
          "BBB",
          "BVNL",
          "Bij1",
          "D66",
          "Denk",
          "FVD",
          "GL-PVDA",
          "JA21",
          "NSC",
          "PVV",
          "PvdD",
          "SP",
          "VVD",
          "Volt"
         ],
         "textposition": "top center",
         "type": "scatter",
         "x": [
          9,
          100,
          -95,
          -5,
          -68,
          64,
          -55,
          77,
          -9,
          9,
          -95,
          -77,
          50,
          -14
         ],
         "xaxis": "x",
         "y": [
          -42,
          -89,
          92,
          58,
          32,
          -92,
          66,
          -89,
          -8,
          -74,
          82,
          21,
          -32,
          84
         ],
         "yaxis": "y"
        }
       ],
       "layout": {
        "annotations": [
         {
          "font": {
           "color": "black",
           "size": 14
          },
          "showarrow": false,
          "text": "Left",
          "x": -105,
          "y": 0
         },
         {
          "font": {
           "color": "black",
           "size": 14
          },
          "showarrow": false,
          "text": "Right",
          "x": 105,
          "y": 0
         },
         {
          "font": {
           "color": "black",
           "size": 14
          },
          "showarrow": false,
          "text": "Progressive",
          "x": 0,
          "y": 105
         },
         {
          "font": {
           "color": "black",
           "size": 14
          },
          "showarrow": false,
          "text": "Conservative",
          "x": 0,
          "y": -105
         }
        ],
        "height": 700,
        "hovermode": "closest",
        "legend": {
         "tracegroupgap": 0
        },
        "margin": {
         "t": 60
        },
        "template": {
         "data": {
          "bar": [
           {
            "error_x": {
             "color": "#2a3f5f"
            },
            "error_y": {
             "color": "#2a3f5f"
            },
            "marker": {
             "line": {
              "color": "#E5ECF6",
              "width": 0.5
             },
             "pattern": {
              "fillmode": "overlay",
              "size": 10,
              "solidity": 0.2
             }
            },
            "type": "bar"
           }
          ],
          "barpolar": [
           {
            "marker": {
             "line": {
              "color": "#E5ECF6",
              "width": 0.5
             },
             "pattern": {
              "fillmode": "overlay",
              "size": 10,
              "solidity": 0.2
             }
            },
            "type": "barpolar"
           }
          ],
          "carpet": [
           {
            "aaxis": {
             "endlinecolor": "#2a3f5f",
             "gridcolor": "white",
             "linecolor": "white",
             "minorgridcolor": "white",
             "startlinecolor": "#2a3f5f"
            },
            "baxis": {
             "endlinecolor": "#2a3f5f",
             "gridcolor": "white",
             "linecolor": "white",
             "minorgridcolor": "white",
             "startlinecolor": "#2a3f5f"
            },
            "type": "carpet"
           }
          ],
          "choropleth": [
           {
            "colorbar": {
             "outlinewidth": 0,
             "ticks": ""
            },
            "type": "choropleth"
           }
          ],
          "contour": [
           {
            "colorbar": {
             "outlinewidth": 0,
             "ticks": ""
            },
            "colorscale": [
             [
              0,
              "#0d0887"
             ],
             [
              0.1111111111111111,
              "#46039f"
             ],
             [
              0.2222222222222222,
              "#7201a8"
             ],
             [
              0.3333333333333333,
              "#9c179e"
             ],
             [
              0.4444444444444444,
              "#bd3786"
             ],
             [
              0.5555555555555556,
              "#d8576b"
             ],
             [
              0.6666666666666666,
              "#ed7953"
             ],
             [
              0.7777777777777778,
              "#fb9f3a"
             ],
             [
              0.8888888888888888,
              "#fdca26"
             ],
             [
              1,
              "#f0f921"
             ]
            ],
            "type": "contour"
           }
          ],
          "contourcarpet": [
           {
            "colorbar": {
             "outlinewidth": 0,
             "ticks": ""
            },
            "type": "contourcarpet"
           }
          ],
          "heatmap": [
           {
            "colorbar": {
             "outlinewidth": 0,
             "ticks": ""
            },
            "colorscale": [
             [
              0,
              "#0d0887"
             ],
             [
              0.1111111111111111,
              "#46039f"
             ],
             [
              0.2222222222222222,
              "#7201a8"
             ],
             [
              0.3333333333333333,
              "#9c179e"
             ],
             [
              0.4444444444444444,
              "#bd3786"
             ],
             [
              0.5555555555555556,
              "#d8576b"
             ],
             [
              0.6666666666666666,
              "#ed7953"
             ],
             [
              0.7777777777777778,
              "#fb9f3a"
             ],
             [
              0.8888888888888888,
              "#fdca26"
             ],
             [
              1,
              "#f0f921"
             ]
            ],
            "type": "heatmap"
           }
          ],
          "heatmapgl": [
           {
            "colorbar": {
             "outlinewidth": 0,
             "ticks": ""
            },
            "colorscale": [
             [
              0,
              "#0d0887"
             ],
             [
              0.1111111111111111,
              "#46039f"
             ],
             [
              0.2222222222222222,
              "#7201a8"
             ],
             [
              0.3333333333333333,
              "#9c179e"
             ],
             [
              0.4444444444444444,
              "#bd3786"
             ],
             [
              0.5555555555555556,
              "#d8576b"
             ],
             [
              0.6666666666666666,
              "#ed7953"
             ],
             [
              0.7777777777777778,
              "#fb9f3a"
             ],
             [
              0.8888888888888888,
              "#fdca26"
             ],
             [
              1,
              "#f0f921"
             ]
            ],
            "type": "heatmapgl"
           }
          ],
          "histogram": [
           {
            "marker": {
             "pattern": {
              "fillmode": "overlay",
              "size": 10,
              "solidity": 0.2
             }
            },
            "type": "histogram"
           }
          ],
          "histogram2d": [
           {
            "colorbar": {
             "outlinewidth": 0,
             "ticks": ""
            },
            "colorscale": [
             [
              0,
              "#0d0887"
             ],
             [
              0.1111111111111111,
              "#46039f"
             ],
             [
              0.2222222222222222,
              "#7201a8"
             ],
             [
              0.3333333333333333,
              "#9c179e"
             ],
             [
              0.4444444444444444,
              "#bd3786"
             ],
             [
              0.5555555555555556,
              "#d8576b"
             ],
             [
              0.6666666666666666,
              "#ed7953"
             ],
             [
              0.7777777777777778,
              "#fb9f3a"
             ],
             [
              0.8888888888888888,
              "#fdca26"
             ],
             [
              1,
              "#f0f921"
             ]
            ],
            "type": "histogram2d"
           }
          ],
          "histogram2dcontour": [
           {
            "colorbar": {
             "outlinewidth": 0,
             "ticks": ""
            },
            "colorscale": [
             [
              0,
              "#0d0887"
             ],
             [
              0.1111111111111111,
              "#46039f"
             ],
             [
              0.2222222222222222,
              "#7201a8"
             ],
             [
              0.3333333333333333,
              "#9c179e"
             ],
             [
              0.4444444444444444,
              "#bd3786"
             ],
             [
              0.5555555555555556,
              "#d8576b"
             ],
             [
              0.6666666666666666,
              "#ed7953"
             ],
             [
              0.7777777777777778,
              "#fb9f3a"
             ],
             [
              0.8888888888888888,
              "#fdca26"
             ],
             [
              1,
              "#f0f921"
             ]
            ],
            "type": "histogram2dcontour"
           }
          ],
          "mesh3d": [
           {
            "colorbar": {
             "outlinewidth": 0,
             "ticks": ""
            },
            "type": "mesh3d"
           }
          ],
          "parcoords": [
           {
            "line": {
             "colorbar": {
              "outlinewidth": 0,
              "ticks": ""
             }
            },
            "type": "parcoords"
           }
          ],
          "pie": [
           {
            "automargin": true,
            "type": "pie"
           }
          ],
          "scatter": [
           {
            "fillpattern": {
             "fillmode": "overlay",
             "size": 10,
             "solidity": 0.2
            },
            "type": "scatter"
           }
          ],
          "scatter3d": [
           {
            "line": {
             "colorbar": {
              "outlinewidth": 0,
              "ticks": ""
             }
            },
            "marker": {
             "colorbar": {
              "outlinewidth": 0,
              "ticks": ""
             }
            },
            "type": "scatter3d"
           }
          ],
          "scattercarpet": [
           {
            "marker": {
             "colorbar": {
              "outlinewidth": 0,
              "ticks": ""
             }
            },
            "type": "scattercarpet"
           }
          ],
          "scattergeo": [
           {
            "marker": {
             "colorbar": {
              "outlinewidth": 0,
              "ticks": ""
             }
            },
            "type": "scattergeo"
           }
          ],
          "scattergl": [
           {
            "marker": {
             "colorbar": {
              "outlinewidth": 0,
              "ticks": ""
             }
            },
            "type": "scattergl"
           }
          ],
          "scattermapbox": [
           {
            "marker": {
             "colorbar": {
              "outlinewidth": 0,
              "ticks": ""
             }
            },
            "type": "scattermapbox"
           }
          ],
          "scatterpolar": [
           {
            "marker": {
             "colorbar": {
              "outlinewidth": 0,
              "ticks": ""
             }
            },
            "type": "scatterpolar"
           }
          ],
          "scatterpolargl": [
           {
            "marker": {
             "colorbar": {
              "outlinewidth": 0,
              "ticks": ""
             }
            },
            "type": "scatterpolargl"
           }
          ],
          "scatterternary": [
           {
            "marker": {
             "colorbar": {
              "outlinewidth": 0,
              "ticks": ""
             }
            },
            "type": "scatterternary"
           }
          ],
          "surface": [
           {
            "colorbar": {
             "outlinewidth": 0,
             "ticks": ""
            },
            "colorscale": [
             [
              0,
              "#0d0887"
             ],
             [
              0.1111111111111111,
              "#46039f"
             ],
             [
              0.2222222222222222,
              "#7201a8"
             ],
             [
              0.3333333333333333,
              "#9c179e"
             ],
             [
              0.4444444444444444,
              "#bd3786"
             ],
             [
              0.5555555555555556,
              "#d8576b"
             ],
             [
              0.6666666666666666,
              "#ed7953"
             ],
             [
              0.7777777777777778,
              "#fb9f3a"
             ],
             [
              0.8888888888888888,
              "#fdca26"
             ],
             [
              1,
              "#f0f921"
             ]
            ],
            "type": "surface"
           }
          ],
          "table": [
           {
            "cells": {
             "fill": {
              "color": "#EBF0F8"
             },
             "line": {
              "color": "white"
             }
            },
            "header": {
             "fill": {
              "color": "#C8D4E3"
             },
             "line": {
              "color": "white"
             }
            },
            "type": "table"
           }
          ]
         },
         "layout": {
          "annotationdefaults": {
           "arrowcolor": "#2a3f5f",
           "arrowhead": 0,
           "arrowwidth": 1
          },
          "autotypenumbers": "strict",
          "coloraxis": {
           "colorbar": {
            "outlinewidth": 0,
            "ticks": ""
           }
          },
          "colorscale": {
           "diverging": [
            [
             0,
             "#8e0152"
            ],
            [
             0.1,
             "#c51b7d"
            ],
            [
             0.2,
             "#de77ae"
            ],
            [
             0.3,
             "#f1b6da"
            ],
            [
             0.4,
             "#fde0ef"
            ],
            [
             0.5,
             "#f7f7f7"
            ],
            [
             0.6,
             "#e6f5d0"
            ],
            [
             0.7,
             "#b8e186"
            ],
            [
             0.8,
             "#7fbc41"
            ],
            [
             0.9,
             "#4d9221"
            ],
            [
             1,
             "#276419"
            ]
           ],
           "sequential": [
            [
             0,
             "#0d0887"
            ],
            [
             0.1111111111111111,
             "#46039f"
            ],
            [
             0.2222222222222222,
             "#7201a8"
            ],
            [
             0.3333333333333333,
             "#9c179e"
            ],
            [
             0.4444444444444444,
             "#bd3786"
            ],
            [
             0.5555555555555556,
             "#d8576b"
            ],
            [
             0.6666666666666666,
             "#ed7953"
            ],
            [
             0.7777777777777778,
             "#fb9f3a"
            ],
            [
             0.8888888888888888,
             "#fdca26"
            ],
            [
             1,
             "#f0f921"
            ]
           ],
           "sequentialminus": [
            [
             0,
             "#0d0887"
            ],
            [
             0.1111111111111111,
             "#46039f"
            ],
            [
             0.2222222222222222,
             "#7201a8"
            ],
            [
             0.3333333333333333,
             "#9c179e"
            ],
            [
             0.4444444444444444,
             "#bd3786"
            ],
            [
             0.5555555555555556,
             "#d8576b"
            ],
            [
             0.6666666666666666,
             "#ed7953"
            ],
            [
             0.7777777777777778,
             "#fb9f3a"
            ],
            [
             0.8888888888888888,
             "#fdca26"
            ],
            [
             1,
             "#f0f921"
            ]
           ]
          },
          "colorway": [
           "#636efa",
           "#EF553B",
           "#00cc96",
           "#ab63fa",
           "#FFA15A",
           "#19d3f3",
           "#FF6692",
           "#B6E880",
           "#FF97FF",
           "#FECB52"
          ],
          "font": {
           "color": "#2a3f5f"
          },
          "geo": {
           "bgcolor": "white",
           "lakecolor": "white",
           "landcolor": "#E5ECF6",
           "showlakes": true,
           "showland": true,
           "subunitcolor": "white"
          },
          "hoverlabel": {
           "align": "left"
          },
          "hovermode": "closest",
          "mapbox": {
           "style": "light"
          },
          "paper_bgcolor": "white",
          "plot_bgcolor": "#E5ECF6",
          "polar": {
           "angularaxis": {
            "gridcolor": "white",
            "linecolor": "white",
            "ticks": ""
           },
           "bgcolor": "#E5ECF6",
           "radialaxis": {
            "gridcolor": "white",
            "linecolor": "white",
            "ticks": ""
           }
          },
          "scene": {
           "xaxis": {
            "backgroundcolor": "#E5ECF6",
            "gridcolor": "white",
            "gridwidth": 2,
            "linecolor": "white",
            "showbackground": true,
            "ticks": "",
            "zerolinecolor": "white"
           },
           "yaxis": {
            "backgroundcolor": "#E5ECF6",
            "gridcolor": "white",
            "gridwidth": 2,
            "linecolor": "white",
            "showbackground": true,
            "ticks": "",
            "zerolinecolor": "white"
           },
           "zaxis": {
            "backgroundcolor": "#E5ECF6",
            "gridcolor": "white",
            "gridwidth": 2,
            "linecolor": "white",
            "showbackground": true,
            "ticks": "",
            "zerolinecolor": "white"
           }
          },
          "shapedefaults": {
           "line": {
            "color": "#2a3f5f"
           }
          },
          "ternary": {
           "aaxis": {
            "gridcolor": "white",
            "linecolor": "white",
            "ticks": ""
           },
           "baxis": {
            "gridcolor": "white",
            "linecolor": "white",
            "ticks": ""
           },
           "bgcolor": "#E5ECF6",
           "caxis": {
            "gridcolor": "white",
            "linecolor": "white",
            "ticks": ""
           }
          },
          "title": {
           "x": 0.05
          },
          "xaxis": {
           "automargin": true,
           "gridcolor": "white",
           "linecolor": "white",
           "ticks": "",
           "title": {
            "standoff": 15
           },
           "zerolinecolor": "white",
           "zerolinewidth": 2
          },
          "yaxis": {
           "automargin": true,
           "gridcolor": "white",
           "linecolor": "white",
           "ticks": "",
           "title": {
            "standoff": 15
           },
           "zerolinecolor": "white",
           "zerolinewidth": 2
          }
         }
        },
        "title": {
         "text": "Political Positioning of Parties"
        },
        "width": 700,
        "xaxis": {
         "anchor": "y",
         "domain": [
          0,
          1
         ],
         "dtick": 10,
         "gridcolor": "lightgray",
         "showticklabels": false,
         "tick0": -100,
         "tickmode": "linear",
         "title": {
          "text": "Left/Right"
         },
         "zeroline": true,
         "zerolinecolor": "black",
         "zerolinewidth": 2
        },
        "yaxis": {
         "anchor": "x",
         "domain": [
          0,
          1
         ],
         "dtick": 10,
         "gridcolor": "lightgray",
         "showticklabels": false,
         "tick0": -100,
         "tickmode": "linear",
         "title": {
          "text": "Progressive/Conservative"
         },
         "zeroline": true,
         "zerolinecolor": "black",
         "zerolinewidth": 2
        }
       }
      }
     },
     "metadata": {},
     "output_type": "display_data"
    }
   ],
   "source": [
    "# Ensure only numeric columns are used in the mean calculation\n",
    "numeric_cols = [\"Left/Right\", \"Progressive/Conservative\"]\n",
    "party_positions = dataframe_political.groupby(\"Party\")[numeric_cols].mean().reset_index()\n",
    "\n",
    "\n",
    "# Create the interactive scatter plot\n",
    "fig = px.scatter(\n",
    "    party_positions,\n",
    "    x=\"Left/Right\",\n",
    "    y=\"Progressive/Conservative\",\n",
    "    text=\"Party\",\n",
    "    hover_data={\"Left/Right\": True, \"Progressive/Conservative\": True, \"Party\": False},\n",
    ")\n",
    "\n",
    "# Update marker style\n",
    "fig.update_traces(marker=dict(size=10, color='blue'), textposition=\"top center\")\n",
    "\n",
    "# Update layout\n",
    "fig.update_layout(\n",
    "    title=\"Political Positioning of Parties\",\n",
    "    xaxis=dict(\n",
    "        showticklabels=False,  # Hide numbers on x-axis\n",
    "        zeroline=True,\n",
    "        zerolinewidth=2,\n",
    "        zerolinecolor=\"black\",\n",
    "        gridcolor=\"lightgray\",\n",
    "        tickmode=\"linear\",\n",
    "        tick0=-100,\n",
    "        dtick=10,\n",
    "    ),\n",
    "    yaxis=dict(\n",
    "        showticklabels=False,  # Hide numbers on y-axis\n",
    "        zeroline=True,\n",
    "        zerolinewidth=2,\n",
    "        zerolinecolor=\"black\",\n",
    "        gridcolor=\"lightgray\",\n",
    "        tickmode=\"linear\",\n",
    "        tick0=-100,\n",
    "        dtick=10,\n",
    "    ),\n",
    "    hovermode=\"closest\",\n",
    "    width=700,  # Square figure\n",
    "    height=700,  # Square figure\n",
    ")\n",
    "\n",
    "# Add text labels for the axis\n",
    "fig.add_annotation(x=-105, y=0, text=\"Left\", showarrow=False, font=dict(size=14, color=\"black\"))\n",
    "fig.add_annotation(x=105, y=0, text=\"Right\", showarrow=False, font=dict(size=14, color=\"black\"))\n",
    "fig.add_annotation(x=0, y=105, text=\"Progressive\", showarrow=False, font=dict(size=14, color=\"black\"))\n",
    "fig.add_annotation(x=0, y=-105, text=\"Conservative\", showarrow=False, font=dict(size=14, color=\"black\"))\n",
    "\n",
    "# Show interactive plot\n",
    "fig.show()"
   ]
  },
  {
   "cell_type": "code",
   "execution_count": null,
   "metadata": {},
   "outputs": [],
   "source": []
  },
  {
   "cell_type": "code",
   "execution_count": 9,
   "metadata": {},
   "outputs": [
    {
     "ename": "NameError",
     "evalue": "name 'emotion_columns' is not defined",
     "output_type": "error",
     "traceback": [
      "\u001b[1;31m---------------------------------------------------------------------------\u001b[0m",
      "\u001b[1;31mNameError\u001b[0m                                 Traceback (most recent call last)",
      "Cell \u001b[1;32mIn[9], line 6\u001b[0m\n\u001b[0;32m      3\u001b[0m photo_counts\u001b[38;5;241m.\u001b[39mcolumns \u001b[38;5;241m=\u001b[39m [\u001b[38;5;124m\"\u001b[39m\u001b[38;5;124mParty\u001b[39m\u001b[38;5;124m\"\u001b[39m, \u001b[38;5;124m\"\u001b[39m\u001b[38;5;124mPhoto_Count\u001b[39m\u001b[38;5;124m\"\u001b[39m]\n\u001b[0;32m      5\u001b[0m \u001b[38;5;66;03m# Aggregate emotions per party and merge with photo counts\u001b[39;00m\n\u001b[1;32m----> 6\u001b[0m party_emotions \u001b[38;5;241m=\u001b[39m dataframe_political\u001b[38;5;241m.\u001b[39mgroupby(\u001b[38;5;124m\"\u001b[39m\u001b[38;5;124mParty\u001b[39m\u001b[38;5;124m\"\u001b[39m)[\u001b[43memotion_columns\u001b[49m]\u001b[38;5;241m.\u001b[39mmean()\u001b[38;5;241m.\u001b[39mreset_index()\n\u001b[0;32m      7\u001b[0m party_emotions \u001b[38;5;241m=\u001b[39m party_emotions\u001b[38;5;241m.\u001b[39mmerge(photo_counts, on\u001b[38;5;241m=\u001b[39m\u001b[38;5;124m\"\u001b[39m\u001b[38;5;124mParty\u001b[39m\u001b[38;5;124m\"\u001b[39m)\n\u001b[0;32m      9\u001b[0m \u001b[38;5;66;03m# Define political groups\u001b[39;00m\n",
      "\u001b[1;31mNameError\u001b[0m: name 'emotion_columns' is not defined"
     ]
    }
   ],
   "source": [
    "# Count the number of photos per party\n",
    "photo_counts = dataframe_political[\"Party\"].value_counts().reset_index()\n",
    "photo_counts.columns = [\"Party\", \"Photo_Count\"]\n",
    "\n",
    "# Aggregate emotions per party and merge with photo counts\n",
    "party_emotions = dataframe_political.groupby(\"Party\")[emotion_columns].mean().reset_index()\n",
    "party_emotions = party_emotions.merge(photo_counts, on=\"Party\")\n",
    "\n",
    "# Define political groups\n",
    "left_parties = set(dataframe_political[dataframe_political[\"Left/Right\"] < 0][\"Party\"].unique())\n",
    "right_parties = set(dataframe_political[dataframe_political[\"Left/Right\"] > 0][\"Party\"].unique())\n",
    "progressive_parties = set(dataframe_political[dataframe_political[\"Progressive/Conservative\"] > 0][\"Party\"].unique())\n",
    "conservative_parties = set(dataframe_political[dataframe_political[\"Progressive/Conservative\"] < 0][\"Party\"].unique())\n",
    "\n",
    "# Create Dash App\n",
    "app = dash.Dash(__name__)\n",
    "\n",
    "# Layout of Dashboard with Styling\n",
    "app.layout = html.Div([\n",
    "    \n",
    "    html.H1(\"Political Emotion Analysis Dashboard\", style={\n",
    "        \"textAlign\": \"center\", \n",
    "        \"backgroundColor\": \"#f5f5f5\", \n",
    "        \"padding\": \"10px\",\n",
    "        \"color\": \"#333\",\n",
    "        \"borderRadius\": \"10px\"\n",
    "    }),\n",
    "\n",
    "    html.Div(style={\"backgroundColor\": \"#f9f9f9\", \"padding\": \"20px\", \"borderRadius\": \"10px\"}, children=[\n",
    "\n",
    "        # Dropdown Selector for Political Spectrum\n",
    "        html.Label(\"Select Political Spectrum:\", style={\"fontWeight\": \"bold\", \"color\": \"#333\"}),\n",
    "        dcc.Dropdown(\n",
    "            id=\"spectrum-selector\",\n",
    "            options=[\n",
    "                {\"label\": \"Left\", \"value\": \"Left\"},\n",
    "                {\"label\": \"Right\", \"value\": \"Right\"},\n",
    "                {\"label\": \"Progressive\", \"value\": \"Progressive\"},\n",
    "                {\"label\": \"Conservative\", \"value\": \"Conservative\"}\n",
    "            ],\n",
    "            multi=True,\n",
    "            value=[],\n",
    "            clearable=True,\n",
    "            style={\"width\": \"50%\", \"marginBottom\": \"10px\"}\n",
    "        ),\n",
    "\n",
    "        # Party Selector\n",
    "        html.Label(\"Select Parties:\", style={\"fontWeight\": \"bold\", \"color\": \"#333\"}),\n",
    "        dcc.Dropdown(\n",
    "            id=\"party-selector\",\n",
    "            options=[{\"label\": party, \"value\": party} for party in party_emotions[\"Party\"]],\n",
    "            multi=True,\n",
    "            value=[],\n",
    "            clearable=True,\n",
    "            style={\"width\": \"50%\", \"marginBottom\": \"10px\"}\n",
    "        ),\n",
    "\n",
    "        # Toggle button for Weighted vs. Unweighted\n",
    "        html.Label(\"Choose Averaging Method:\", style={\"fontWeight\": \"bold\", \"color\": \"#333\"}),\n",
    "        dcc.RadioItems(\n",
    "            id=\"weight-toggle\",\n",
    "            options=[\n",
    "                {\"label\": \"Unweighted (Equal Contribution)\", \"value\": \"unweighted\"},\n",
    "                {\"label\": \"Weighted by Number of Photos\", \"value\": \"weighted\"}\n",
    "            ],\n",
    "            value=\"unweighted\",\n",
    "            inline=True,\n",
    "            style={\"marginBottom\": \"20px\", \"color\": \"#333\"}\n",
    "        ),\n",
    "\n",
    "        # Radar Chart (Spider Plot)\n",
    "        dcc.Graph(id=\"radar-chart\", style={\"backgroundColor\": \"#ffffff\", \"borderRadius\": \"10px\"})\n",
    "    ])\n",
    "], style={\"backgroundColor\": \"#f5f5f5\", \"minHeight\": \"100vh\", \"padding\": \"30px\"})\n",
    "\n",
    "# Callback for updating available parties based on spectrum selection (AND logic)\n",
    "@app.callback(\n",
    "    Output(\"party-selector\", \"options\"),\n",
    "    Input(\"spectrum-selector\", \"value\")\n",
    ")\n",
    "def update_party_options(selected_spectrum):\n",
    "    # Start with all parties\n",
    "    filtered_parties = set(party_emotions[\"Party\"])\n",
    "\n",
    "    # Apply AND logic: Keep only parties that match **all** selected categories\n",
    "    if \"Left\" in selected_spectrum:\n",
    "        filtered_parties &= left_parties\n",
    "    if \"Right\" in selected_spectrum:\n",
    "        filtered_parties &= right_parties\n",
    "    if \"Progressive\" in selected_spectrum:\n",
    "        filtered_parties &= progressive_parties\n",
    "    if \"Conservative\" in selected_spectrum:\n",
    "        filtered_parties &= conservative_parties\n",
    "\n",
    "    return [{\"label\": party, \"value\": party} for party in sorted(filtered_parties)]\n",
    "\n",
    "# Callback for Radar Chart Updates\n",
    "@app.callback(\n",
    "    Output(\"radar-chart\", \"figure\"),\n",
    "    [Input(\"party-selector\", \"value\"),\n",
    "     Input(\"spectrum-selector\", \"value\"),\n",
    "     Input(\"weight-toggle\", \"value\")]\n",
    ")\n",
    "def update_radar_chart(selected_parties, selected_spectrum, weight_option):\n",
    "    # Determine which parties to include\n",
    "    filtered_parties = set(selected_parties)\n",
    "\n",
    "    # If no specific parties selected, use the parties that match ALL selected spectrum categories\n",
    "    if not filtered_parties:\n",
    "        filtered_parties = set(party_emotions[\"Party\"])  # Start with all parties\n",
    "\n",
    "        # Apply AND logic\n",
    "        if \"Left\" in selected_spectrum:\n",
    "            filtered_parties &= left_parties\n",
    "        if \"Right\" in selected_spectrum:\n",
    "            filtered_parties &= right_parties\n",
    "        if \"Progressive\" in selected_spectrum:\n",
    "            filtered_parties &= progressive_parties\n",
    "        if \"Conservative\" in selected_spectrum:\n",
    "            filtered_parties &= conservative_parties\n",
    "\n",
    "    # Filter dataframe\n",
    "    filtered_df = party_emotions[party_emotions[\"Party\"].isin(filtered_parties)]\n",
    "\n",
    "    # If no valid parties remain, return an empty plot\n",
    "    if filtered_df.empty:\n",
    "        fig_radar = go.Figure()\n",
    "        fig_radar.update_layout(\n",
    "            title=\"No Parties Match Selection\",\n",
    "            polar=dict(radialaxis=dict(visible=True, range=[0, 1])),\n",
    "            showlegend=False\n",
    "        )\n",
    "        return fig_radar\n",
    "\n",
    "    # Compute the average emotions\n",
    "    if weight_option == \"unweighted\":\n",
    "        avg_emotions = filtered_df[emotion_columns].mean()  # Equal weight per party\n",
    "    else:  # Weighted by number of photos\n",
    "        avg_emotions = (filtered_df[emotion_columns].T * filtered_df[\"Photo_Count\"]).T.sum() / filtered_df[\"Photo_Count\"].sum()\n",
    "\n",
    "    # Scale emotions so that the highest one is set to 100%\n",
    "    max_emotion = avg_emotions.max()\n",
    "    if max_emotion > 0:\n",
    "        avg_emotions = avg_emotions / max_emotion\n",
    "\n",
    "    # Create Radar Chart\n",
    "    fig_radar = go.Figure()\n",
    "    fig_radar.add_trace(go.Scatterpolar(\n",
    "        r=avg_emotions.values,\n",
    "        theta=emotion_columns,\n",
    "        fill='toself',\n",
    "        name=\"Selected Group\"\n",
    "    ))\n",
    "\n",
    "    fig_radar.update_layout(\n",
    "        title=f\"Emotion Distribution ({'Weighted' if weight_option == 'weighted' else 'Unweighted'})\",\n",
    "        polar=dict(radialaxis=dict(visible=True, range=[0, 1])),\n",
    "        showlegend=True,\n",
    "        paper_bgcolor=\"#ffffff\",\n",
    "        plot_bgcolor=\"#ffffff\"\n",
    "    )\n",
    "\n",
    "    return fig_radar\n",
    "\n",
    "# Run the Dashboard\n",
    "if __name__ == '__main__':\n",
    "    app.run(debug=True)"
   ]
  },
  {
   "cell_type": "code",
   "execution_count": null,
   "metadata": {},
   "outputs": [
    {
     "data": {
      "application/vnd.jupyter.widget-view+json": {
       "model_id": "b148b7bce1c84872aa75b3418d1e048a",
       "version_major": 2,
       "version_minor": 0
      },
      "text/plain": [
       "VBox(children=(ToggleButtons(description='Group:', layout=Layout(width='100%'), options=('All', 'Left', 'Right…"
      ]
     },
     "metadata": {},
     "output_type": "display_data"
    },
    {
     "data": {
      "application/vnd.jupyter.widget-view+json": {
       "model_id": "410d9baf22154355af54c7b2af0fcbc0",
       "version_major": 2,
       "version_minor": 0
      },
      "text/plain": [
       "Output()"
      ]
     },
     "metadata": {},
     "output_type": "display_data"
    }
   ],
   "source": [
    "import pandas as pd\n",
    "import plotly.express as px\n",
    "import ipywidgets as widgets\n",
    "from IPython.display import display\n",
    "\n",
    "# --- Load and prepare the data ---\n",
    "emotion_df = pd.read_csv(\"deepface_emotions_combined.csv\")\n",
    "orientation_df = pd.read_csv(\"Political_Orientation_Data.csv\")\n",
    "df = pd.merge(emotion_df, orientation_df, on='Person', how='left')\n",
    "\n",
    "df['Source'] = df['Folder'].apply(lambda x: 'Instagram' if x == 'Instagram' else 'News')\n",
    "df = df[df['Source'] == 'Instagram'].copy()\n",
    "df['Date'] = pd.to_datetime(df['Date'])\n",
    "df['Orientation'] = df['Left/Right'].apply(lambda x: 'Left' if x < 0 else 'Right')\n",
    "df['Ideology'] = df['Progressive/Conservative'].apply(lambda x: 'Progressive' if x > 0 else 'Conservative')\n",
    "\n",
    "# --- Widgets ---\n",
    "bin_freq_options = {\n",
    "    \"Monthly (4 bins max)\": \"1M\",\n",
    "    \"Biweekly\": \"14D\",\n",
    "    \"Weekly (default)\": \"7D\",\n",
    "    \"Every 3 Days\": \"3D\",\n",
    "    \"Daily\": \"1D\"\n",
    "}\n",
    "bin_selector = widgets.Dropdown(\n",
    "    options=list(bin_freq_options.keys()),\n",
    "    value=\"Weekly (default)\",\n",
    "    description='Bin Size:',\n",
    "    layout=widgets.Layout(width='300px')\n",
    ")\n",
    "\n",
    "group_selector = widgets.ToggleButtons(\n",
    "    options=['All', 'Left', 'Right', 'Progressive', 'Conservative'],\n",
    "    description='Group:',\n",
    "    layout=widgets.Layout(width='100%')\n",
    ")\n",
    "\n",
    "person_mode = widgets.ToggleButtons(\n",
    "    options=['Combined', 'Individual'],\n",
    "    value='Combined',\n",
    "    description='All Group Mode:',\n",
    "    layout=widgets.Layout(width='400px')\n",
    ")\n",
    "\n",
    "person_selector = widgets.Dropdown(\n",
    "    options=sorted(df['Person'].unique()),\n",
    "    description='Person:',\n",
    "    layout=widgets.Layout(width='400px')\n",
    ")\n",
    "\n",
    "# Hide/show widgets dynamically\n",
    "def update_visibility(*args):\n",
    "    if group_selector.value == 'All':\n",
    "        person_mode.layout.display = 'block'\n",
    "        person_selector.layout.display = 'block' if person_mode.value == 'Individual' else 'none'\n",
    "    else:\n",
    "        person_mode.layout.display = 'none'\n",
    "        person_selector.layout.display = 'none'\n",
    "\n",
    "group_selector.observe(update_visibility, names='value')\n",
    "person_mode.observe(update_visibility, names='value')\n",
    "update_visibility()\n",
    "\n",
    "# --- Histogram update function ---\n",
    "def update_histogram(group, mode, person, bin_label):\n",
    "    freq = bin_freq_options[bin_label]\n",
    "\n",
    "    if group == 'All':\n",
    "        if mode == 'Combined':\n",
    "            group_df = df.copy()\n",
    "            title = \"All Politicians Combined\"\n",
    "        else:\n",
    "            group_df = df[df['Person'] == person].copy()\n",
    "            title = f\"{person}\"\n",
    "    elif group in ['Left', 'Right']:\n",
    "        group_df = df[df['Orientation'] == group].copy()\n",
    "        title = f\"{group} Politicians Combined\"\n",
    "    else:\n",
    "        group_df = df[df['Ideology'] == group].copy()\n",
    "        title = f\"{group} Politicians Combined\"\n",
    "\n",
    "    if group_df.empty:\n",
    "        print(\"No data available.\")\n",
    "        return\n",
    "\n",
    "    grouped = (\n",
    "        group_df\n",
    "        .set_index('Date')\n",
    "        .groupby([pd.Grouper(freq=freq), 'Dominant Emotion'])\n",
    "        .size()\n",
    "        .reset_index(name='Count')\n",
    "    )\n",
    "\n",
    "    # Define emotion color map (consistent)\n",
    "    emotion_colors = {\n",
    "        'angry': '#e74c3c',\n",
    "        'disgust': '#27ae60',\n",
    "        'fear': '#8e44ad',\n",
    "        'happy': '#f1c40f',\n",
    "        'sad': '#3498db',\n",
    "        'surprise': '#f39c12',\n",
    "        'neutral': '#95a5a6'\n",
    "    }\n",
    "\n",
    "    fig = px.bar(\n",
    "        grouped,\n",
    "        x='Date',\n",
    "        y='Count',\n",
    "        color='Dominant Emotion',\n",
    "        title=f\"Instagram Emotion Histogram: {title} ({bin_label})\",\n",
    "        labels={'Date': 'Date', 'Count': 'Number of Photos'},\n",
    "        color_discrete_map=emotion_colors,\n",
    "        height=500\n",
    "    )\n",
    "\n",
    "    fig.update_layout(bargap=0.05)\n",
    "    fig.show()\n",
    "\n",
    "# --- Combine everything ---\n",
    "ui = widgets.VBox([\n",
    "    group_selector,\n",
    "    person_mode,\n",
    "    person_selector,\n",
    "    bin_selector\n",
    "])\n",
    "\n",
    "out = widgets.interactive_output(\n",
    "    update_histogram,\n",
    "    {\n",
    "        'group': group_selector,\n",
    "        'mode': person_mode,\n",
    "        'person': person_selector,\n",
    "        'bin_label': bin_selector\n",
    "    }\n",
    ")\n",
    "\n",
    "display(ui, out)\n"
   ]
  },
  {
   "cell_type": "code",
   "execution_count": null,
   "metadata": {},
   "outputs": [
    {
     "data": {
      "application/vnd.jupyter.widget-view+json": {
       "model_id": "c7dbf0693ce4473aa3f9e7cb58d9269d",
       "version_major": 2,
       "version_minor": 0
      },
      "text/plain": [
       "VBox(children=(ToggleButtons(description='Group:', layout=Layout(width='100%'), options=('All', 'Left', 'Right…"
      ]
     },
     "metadata": {},
     "output_type": "display_data"
    },
    {
     "data": {
      "application/vnd.jupyter.widget-view+json": {
       "model_id": "368a8e8f72ba4241b4fb0b3d891d2d63",
       "version_major": 2,
       "version_minor": 0
      },
      "text/plain": [
       "Output()"
      ]
     },
     "metadata": {},
     "output_type": "display_data"
    }
   ],
   "source": [
    "import pandas as pd\n",
    "import plotly.express as px\n",
    "import ipywidgets as widgets\n",
    "from IPython.display import display\n",
    "\n",
    "# --- Load and prepare the data ---\n",
    "emotion_df = pd.read_csv(\"deepface_emotions_combined.csv\")\n",
    "orientation_df = pd.read_csv(\"Political_Orientation_Data.csv\")\n",
    "df = pd.merge(emotion_df, orientation_df, on='Person', how='left')\n",
    "\n",
    "df['Source'] = df['Folder'].apply(lambda x: 'Instagram' if x == 'Instagram' else 'News')\n",
    "df = df[df['Source'] == 'Instagram'].copy()\n",
    "df['Date'] = pd.to_datetime(df['Date'])\n",
    "df['Orientation'] = df['Left/Right'].apply(lambda x: 'Left' if x < 0 else 'Right')\n",
    "df['Ideology'] = df['Progressive/Conservative'].apply(lambda x: 'Progressive' if x > 0 else 'Conservative')\n",
    "\n",
    "# --- Fixed color mapping for consistent emotions ---\n",
    "emotion_colors = {\n",
    "    'angry': '#e74c3c',\n",
    "    'disgust': '#27ae60',\n",
    "    'fear': '#8e44ad',\n",
    "    'happy': '#f1c40f',\n",
    "    'sad': '#3498db',\n",
    "    'surprise': '#f39c12',\n",
    "    'neutral': '#95a5a6'\n",
    "}\n",
    "\n",
    "# --- Widgets ---\n",
    "bin_freq_options = {\n",
    "    \"Monthly (4 bins max)\": \"1M\",\n",
    "    \"Biweekly\": \"14D\",\n",
    "    \"Weekly (default)\": \"7D\",\n",
    "    \"Every 3 Days\": \"3D\",\n",
    "    \"Daily\": \"1D\"\n",
    "}\n",
    "bin_selector = widgets.Dropdown(\n",
    "    options=list(bin_freq_options.keys()),\n",
    "    value=\"Weekly (default)\",\n",
    "    description='Bin Size:',\n",
    "    layout=widgets.Layout(width='300px')\n",
    ")\n",
    "\n",
    "group_selector = widgets.ToggleButtons(\n",
    "    options=['All', 'Left', 'Right', 'Progressive', 'Conservative'],\n",
    "    description='Group:',\n",
    "    layout=widgets.Layout(width='100%')\n",
    ")\n",
    "\n",
    "person_mode = widgets.ToggleButtons(\n",
    "    options=['Combined', 'Individual'],\n",
    "    value='Combined',\n",
    "    description='All Group Mode:',\n",
    "    layout=widgets.Layout(width='400px')\n",
    ")\n",
    "\n",
    "person_selector = widgets.Dropdown(\n",
    "    options=sorted(df['Person'].unique()),\n",
    "    description='Person:',\n",
    "    layout=widgets.Layout(width='400px')\n",
    ")\n",
    "\n",
    "# --- Dynamic visibility logic ---\n",
    "def update_visibility(*args):\n",
    "    if group_selector.value == 'All':\n",
    "        person_mode.layout.display = 'block'\n",
    "        person_selector.layout.display = 'block' if person_mode.value == 'Individual' else 'none'\n",
    "    else:\n",
    "        person_mode.layout.display = 'none'\n",
    "        person_selector.layout.display = 'none'\n",
    "\n",
    "group_selector.observe(update_visibility, names='value')\n",
    "person_mode.observe(update_visibility, names='value')\n",
    "update_visibility()\n",
    "\n",
    "# --- Streamgraph plotting function ---\n",
    "def update_streamgraph(group, mode, person, bin_label):\n",
    "    freq = bin_freq_options[bin_label]\n",
    "\n",
    "    if group == 'All':\n",
    "        if mode == 'Combined':\n",
    "            group_df = df.copy()\n",
    "            title = \"All Politicians Combined\"\n",
    "        else:\n",
    "            group_df = df[df['Person'] == person].copy()\n",
    "            title = f\"{person}\"\n",
    "    elif group in ['Left', 'Right']:\n",
    "        group_df = df[df['Orientation'] == group].copy()\n",
    "        title = f\"{group} Politicians Combined\"\n",
    "    else:\n",
    "        group_df = df[df['Ideology'] == group].copy()\n",
    "        title = f\"{group} Politicians Combined\"\n",
    "\n",
    "    if group_df.empty:\n",
    "        print(\"No data available.\")\n",
    "        return\n",
    "\n",
    "    grouped = (\n",
    "        group_df\n",
    "        .set_index('Date')\n",
    "        .groupby([pd.Grouper(freq=freq), 'Dominant Emotion'])\n",
    "        .size()\n",
    "        .reset_index(name='Count')\n",
    "    )\n",
    "\n",
    "    fig = px.area(\n",
    "        grouped,\n",
    "        x='Date',\n",
    "        y='Count',\n",
    "        color='Dominant Emotion',\n",
    "        color_discrete_map=emotion_colors,\n",
    "        line_group='Dominant Emotion',\n",
    "        title=f\"Instagram Emotion Streamgraph: {title} ({bin_label})\",\n",
    "        labels={'Date': 'Date', 'Count': 'Number of Photos'},\n",
    "        height=500\n",
    "    )\n",
    "\n",
    "    fig.update_layout(\n",
    "        xaxis=dict(dtick=\"M1\", tickformat=\"%b\\n%Y\"),\n",
    "        yaxis_title=\"Photo Count\",\n",
    "        legend_title=\"Emotion\",\n",
    "        hovermode=\"x unified\"\n",
    "    )\n",
    "\n",
    "    fig.show()\n",
    "\n",
    "# --- Interface layout ---\n",
    "ui = widgets.VBox([\n",
    "    group_selector,\n",
    "    person_mode,\n",
    "    person_selector,\n",
    "    bin_selector\n",
    "])\n",
    "\n",
    "out = widgets.interactive_output(\n",
    "    update_streamgraph,\n",
    "    {\n",
    "        'group': group_selector,\n",
    "        'mode': person_mode,\n",
    "        'person': person_selector,\n",
    "        'bin_label': bin_selector\n",
    "    }\n",
    ")\n",
    "\n",
    "display(ui, out)\n"
   ]
  },
  {
   "cell_type": "code",
   "execution_count": null,
   "metadata": {},
   "outputs": [
    {
     "data": {
      "text/html": [
       "<div>\n",
       "<style scoped>\n",
       "    .dataframe tbody tr th:only-of-type {\n",
       "        vertical-align: middle;\n",
       "    }\n",
       "\n",
       "    .dataframe tbody tr th {\n",
       "        vertical-align: top;\n",
       "    }\n",
       "\n",
       "    .dataframe thead th {\n",
       "        text-align: right;\n",
       "    }\n",
       "</style>\n",
       "<table border=\"1\" class=\"dataframe\">\n",
       "  <thead>\n",
       "    <tr style=\"text-align: right;\">\n",
       "      <th></th>\n",
       "      <th>Image</th>\n",
       "      <th>Folder</th>\n",
       "      <th>Person</th>\n",
       "      <th>Dominant Emotion</th>\n",
       "      <th>Angry</th>\n",
       "      <th>Disgust</th>\n",
       "      <th>Fear</th>\n",
       "      <th>Happy</th>\n",
       "      <th>Sad</th>\n",
       "      <th>Surprise</th>\n",
       "      <th>...</th>\n",
       "      <th>Right Eye X</th>\n",
       "      <th>Right Eye Y</th>\n",
       "      <th>Face Confidence</th>\n",
       "      <th>Date</th>\n",
       "      <th>Party</th>\n",
       "      <th>Progressive/Conservative</th>\n",
       "      <th>Left/Right</th>\n",
       "      <th>Source</th>\n",
       "      <th>Orientation</th>\n",
       "      <th>Ideology</th>\n",
       "    </tr>\n",
       "  </thead>\n",
       "  <tbody>\n",
       "    <tr>\n",
       "      <th>0</th>\n",
       "      <td>2488763_4334.jpg</td>\n",
       "      <td>NOS_t1</td>\n",
       "      <td>Caroline van der Plas</td>\n",
       "      <td>happy</td>\n",
       "      <td>0.021674</td>\n",
       "      <td>2.238934e-03</td>\n",
       "      <td>1.399683e-01</td>\n",
       "      <td>88.268042</td>\n",
       "      <td>2.571152</td>\n",
       "      <td>2.658652e-02</td>\n",
       "      <td>...</td>\n",
       "      <td>66</td>\n",
       "      <td>78</td>\n",
       "      <td>0.99</td>\n",
       "      <td>NaT</td>\n",
       "      <td>BBB</td>\n",
       "      <td>-42.0</td>\n",
       "      <td>9.0</td>\n",
       "      <td>News</td>\n",
       "      <td>Right</td>\n",
       "      <td>Conservative</td>\n",
       "    </tr>\n",
       "    <tr>\n",
       "      <th>1</th>\n",
       "      <td>2488814_4291.jpg</td>\n",
       "      <td>NOS_t1</td>\n",
       "      <td>Caroline van der Plas</td>\n",
       "      <td>happy</td>\n",
       "      <td>0.886472</td>\n",
       "      <td>1.115981e-01</td>\n",
       "      <td>2.079511e-02</td>\n",
       "      <td>75.512420</td>\n",
       "      <td>14.332163</td>\n",
       "      <td>4.981646e-05</td>\n",
       "      <td>...</td>\n",
       "      <td>10</td>\n",
       "      <td>14</td>\n",
       "      <td>1.00</td>\n",
       "      <td>NaT</td>\n",
       "      <td>BBB</td>\n",
       "      <td>-42.0</td>\n",
       "      <td>9.0</td>\n",
       "      <td>News</td>\n",
       "      <td>Right</td>\n",
       "      <td>Conservative</td>\n",
       "    </tr>\n",
       "    <tr>\n",
       "      <th>2</th>\n",
       "      <td>2488823_4282.jpg</td>\n",
       "      <td>NOS_t1</td>\n",
       "      <td>Caroline van der Plas</td>\n",
       "      <td>happy</td>\n",
       "      <td>0.886472</td>\n",
       "      <td>1.115981e-01</td>\n",
       "      <td>2.079511e-02</td>\n",
       "      <td>75.512420</td>\n",
       "      <td>14.332163</td>\n",
       "      <td>4.981646e-05</td>\n",
       "      <td>...</td>\n",
       "      <td>10</td>\n",
       "      <td>14</td>\n",
       "      <td>1.00</td>\n",
       "      <td>NaT</td>\n",
       "      <td>BBB</td>\n",
       "      <td>-42.0</td>\n",
       "      <td>9.0</td>\n",
       "      <td>News</td>\n",
       "      <td>Right</td>\n",
       "      <td>Conservative</td>\n",
       "    </tr>\n",
       "    <tr>\n",
       "      <th>3</th>\n",
       "      <td>2489252_4104.jpg</td>\n",
       "      <td>NOS_t1</td>\n",
       "      <td>Caroline van der Plas</td>\n",
       "      <td>neutral</td>\n",
       "      <td>0.001276</td>\n",
       "      <td>8.970216e-20</td>\n",
       "      <td>5.988629e-09</td>\n",
       "      <td>0.000821</td>\n",
       "      <td>0.000128</td>\n",
       "      <td>5.863522e-12</td>\n",
       "      <td>...</td>\n",
       "      <td>37</td>\n",
       "      <td>34</td>\n",
       "      <td>1.00</td>\n",
       "      <td>NaT</td>\n",
       "      <td>BBB</td>\n",
       "      <td>-42.0</td>\n",
       "      <td>9.0</td>\n",
       "      <td>News</td>\n",
       "      <td>Right</td>\n",
       "      <td>Conservative</td>\n",
       "    </tr>\n",
       "    <tr>\n",
       "      <th>4</th>\n",
       "      <td>2489745_3935.jpg</td>\n",
       "      <td>NOS_t1</td>\n",
       "      <td>Caroline van der Plas</td>\n",
       "      <td>fear</td>\n",
       "      <td>0.141854</td>\n",
       "      <td>5.449093e-02</td>\n",
       "      <td>7.251012e+01</td>\n",
       "      <td>0.775452</td>\n",
       "      <td>26.112507</td>\n",
       "      <td>8.078648e-03</td>\n",
       "      <td>...</td>\n",
       "      <td>16</td>\n",
       "      <td>22</td>\n",
       "      <td>1.00</td>\n",
       "      <td>NaT</td>\n",
       "      <td>BBB</td>\n",
       "      <td>-42.0</td>\n",
       "      <td>9.0</td>\n",
       "      <td>News</td>\n",
       "      <td>Right</td>\n",
       "      <td>Conservative</td>\n",
       "    </tr>\n",
       "    <tr>\n",
       "      <th>...</th>\n",
       "      <td>...</td>\n",
       "      <td>...</td>\n",
       "      <td>...</td>\n",
       "      <td>...</td>\n",
       "      <td>...</td>\n",
       "      <td>...</td>\n",
       "      <td>...</td>\n",
       "      <td>...</td>\n",
       "      <td>...</td>\n",
       "      <td>...</td>\n",
       "      <td>...</td>\n",
       "      <td>...</td>\n",
       "      <td>...</td>\n",
       "      <td>...</td>\n",
       "      <td>...</td>\n",
       "      <td>...</td>\n",
       "      <td>...</td>\n",
       "      <td>...</td>\n",
       "      <td>...</td>\n",
       "      <td>...</td>\n",
       "      <td>...</td>\n",
       "    </tr>\n",
       "    <tr>\n",
       "      <th>1311</th>\n",
       "      <td>241023_wybren.png</td>\n",
       "      <td>Instagram</td>\n",
       "      <td>Wybren van Haga</td>\n",
       "      <td>angry</td>\n",
       "      <td>63.909817</td>\n",
       "      <td>4.707043e-10</td>\n",
       "      <td>1.618799e-03</td>\n",
       "      <td>34.575200</td>\n",
       "      <td>0.024561</td>\n",
       "      <td>1.417450e-03</td>\n",
       "      <td>...</td>\n",
       "      <td>60</td>\n",
       "      <td>104</td>\n",
       "      <td>1.00</td>\n",
       "      <td>2023-10-24</td>\n",
       "      <td>BVNL</td>\n",
       "      <td>-89.0</td>\n",
       "      <td>100.0</td>\n",
       "      <td>Instagram</td>\n",
       "      <td>Right</td>\n",
       "      <td>Conservative</td>\n",
       "    </tr>\n",
       "    <tr>\n",
       "      <th>1312</th>\n",
       "      <td>241223_wybren.png</td>\n",
       "      <td>Instagram</td>\n",
       "      <td>Wybren van Haga</td>\n",
       "      <td>happy</td>\n",
       "      <td>0.152928</td>\n",
       "      <td>3.349813e-05</td>\n",
       "      <td>2.974866e-03</td>\n",
       "      <td>79.397583</td>\n",
       "      <td>0.146784</td>\n",
       "      <td>7.851073e-03</td>\n",
       "      <td>...</td>\n",
       "      <td>19</td>\n",
       "      <td>44</td>\n",
       "      <td>0.99</td>\n",
       "      <td>2023-12-24</td>\n",
       "      <td>BVNL</td>\n",
       "      <td>-89.0</td>\n",
       "      <td>100.0</td>\n",
       "      <td>Instagram</td>\n",
       "      <td>Right</td>\n",
       "      <td>Conservative</td>\n",
       "    </tr>\n",
       "    <tr>\n",
       "      <th>1313</th>\n",
       "      <td>250923_wybren.png</td>\n",
       "      <td>Instagram</td>\n",
       "      <td>Wybren van Haga</td>\n",
       "      <td>happy</td>\n",
       "      <td>0.000430</td>\n",
       "      <td>1.548037e-07</td>\n",
       "      <td>1.392585e-03</td>\n",
       "      <td>54.519176</td>\n",
       "      <td>0.023393</td>\n",
       "      <td>1.038006e-02</td>\n",
       "      <td>...</td>\n",
       "      <td>21</td>\n",
       "      <td>80</td>\n",
       "      <td>1.00</td>\n",
       "      <td>2023-09-25</td>\n",
       "      <td>BVNL</td>\n",
       "      <td>-89.0</td>\n",
       "      <td>100.0</td>\n",
       "      <td>Instagram</td>\n",
       "      <td>Right</td>\n",
       "      <td>Conservative</td>\n",
       "    </tr>\n",
       "    <tr>\n",
       "      <th>1314</th>\n",
       "      <td>270923_wybren.png</td>\n",
       "      <td>Instagram</td>\n",
       "      <td>Wybren van Haga</td>\n",
       "      <td>happy</td>\n",
       "      <td>0.000041</td>\n",
       "      <td>3.659996e-08</td>\n",
       "      <td>2.015140e-05</td>\n",
       "      <td>70.926648</td>\n",
       "      <td>0.043823</td>\n",
       "      <td>1.708612e-05</td>\n",
       "      <td>...</td>\n",
       "      <td>28</td>\n",
       "      <td>85</td>\n",
       "      <td>1.00</td>\n",
       "      <td>2023-09-27</td>\n",
       "      <td>BVNL</td>\n",
       "      <td>-89.0</td>\n",
       "      <td>100.0</td>\n",
       "      <td>Instagram</td>\n",
       "      <td>Right</td>\n",
       "      <td>Conservative</td>\n",
       "    </tr>\n",
       "    <tr>\n",
       "      <th>1315</th>\n",
       "      <td>281023_wybren.png</td>\n",
       "      <td>Instagram</td>\n",
       "      <td>Wybren van Haga</td>\n",
       "      <td>happy</td>\n",
       "      <td>0.000461</td>\n",
       "      <td>2.015816e-06</td>\n",
       "      <td>1.272306e-02</td>\n",
       "      <td>77.871585</td>\n",
       "      <td>0.340523</td>\n",
       "      <td>3.831026e-02</td>\n",
       "      <td>...</td>\n",
       "      <td>36</td>\n",
       "      <td>58</td>\n",
       "      <td>1.00</td>\n",
       "      <td>2023-10-28</td>\n",
       "      <td>BVNL</td>\n",
       "      <td>-89.0</td>\n",
       "      <td>100.0</td>\n",
       "      <td>Instagram</td>\n",
       "      <td>Right</td>\n",
       "      <td>Conservative</td>\n",
       "    </tr>\n",
       "  </tbody>\n",
       "</table>\n",
       "<p>1316 rows × 27 columns</p>\n",
       "</div>"
      ],
      "text/plain": [
       "                  Image     Folder                 Person Dominant Emotion  \\\n",
       "0      2488763_4334.jpg     NOS_t1  Caroline van der Plas            happy   \n",
       "1      2488814_4291.jpg     NOS_t1  Caroline van der Plas            happy   \n",
       "2      2488823_4282.jpg     NOS_t1  Caroline van der Plas            happy   \n",
       "3      2489252_4104.jpg     NOS_t1  Caroline van der Plas          neutral   \n",
       "4      2489745_3935.jpg     NOS_t1  Caroline van der Plas             fear   \n",
       "...                 ...        ...                    ...              ...   \n",
       "1311  241023_wybren.png  Instagram        Wybren van Haga            angry   \n",
       "1312  241223_wybren.png  Instagram        Wybren van Haga            happy   \n",
       "1313  250923_wybren.png  Instagram        Wybren van Haga            happy   \n",
       "1314  270923_wybren.png  Instagram        Wybren van Haga            happy   \n",
       "1315  281023_wybren.png  Instagram        Wybren van Haga            happy   \n",
       "\n",
       "          Angry       Disgust          Fear      Happy        Sad  \\\n",
       "0      0.021674  2.238934e-03  1.399683e-01  88.268042   2.571152   \n",
       "1      0.886472  1.115981e-01  2.079511e-02  75.512420  14.332163   \n",
       "2      0.886472  1.115981e-01  2.079511e-02  75.512420  14.332163   \n",
       "3      0.001276  8.970216e-20  5.988629e-09   0.000821   0.000128   \n",
       "4      0.141854  5.449093e-02  7.251012e+01   0.775452  26.112507   \n",
       "...         ...           ...           ...        ...        ...   \n",
       "1311  63.909817  4.707043e-10  1.618799e-03  34.575200   0.024561   \n",
       "1312   0.152928  3.349813e-05  2.974866e-03  79.397583   0.146784   \n",
       "1313   0.000430  1.548037e-07  1.392585e-03  54.519176   0.023393   \n",
       "1314   0.000041  3.659996e-08  2.015140e-05  70.926648   0.043823   \n",
       "1315   0.000461  2.015816e-06  1.272306e-02  77.871585   0.340523   \n",
       "\n",
       "          Surprise  ...  Right Eye X  Right Eye Y  Face Confidence       Date  \\\n",
       "0     2.658652e-02  ...           66           78             0.99        NaT   \n",
       "1     4.981646e-05  ...           10           14             1.00        NaT   \n",
       "2     4.981646e-05  ...           10           14             1.00        NaT   \n",
       "3     5.863522e-12  ...           37           34             1.00        NaT   \n",
       "4     8.078648e-03  ...           16           22             1.00        NaT   \n",
       "...            ...  ...          ...          ...              ...        ...   \n",
       "1311  1.417450e-03  ...           60          104             1.00 2023-10-24   \n",
       "1312  7.851073e-03  ...           19           44             0.99 2023-12-24   \n",
       "1313  1.038006e-02  ...           21           80             1.00 2023-09-25   \n",
       "1314  1.708612e-05  ...           28           85             1.00 2023-09-27   \n",
       "1315  3.831026e-02  ...           36           58             1.00 2023-10-28   \n",
       "\n",
       "      Party  Progressive/Conservative  Left/Right     Source  Orientation  \\\n",
       "0       BBB                     -42.0         9.0       News        Right   \n",
       "1       BBB                     -42.0         9.0       News        Right   \n",
       "2       BBB                     -42.0         9.0       News        Right   \n",
       "3       BBB                     -42.0         9.0       News        Right   \n",
       "4       BBB                     -42.0         9.0       News        Right   \n",
       "...     ...                       ...         ...        ...          ...   \n",
       "1311   BVNL                     -89.0       100.0  Instagram        Right   \n",
       "1312   BVNL                     -89.0       100.0  Instagram        Right   \n",
       "1313   BVNL                     -89.0       100.0  Instagram        Right   \n",
       "1314   BVNL                     -89.0       100.0  Instagram        Right   \n",
       "1315   BVNL                     -89.0       100.0  Instagram        Right   \n",
       "\n",
       "          Ideology  \n",
       "0     Conservative  \n",
       "1     Conservative  \n",
       "2     Conservative  \n",
       "3     Conservative  \n",
       "4     Conservative  \n",
       "...            ...  \n",
       "1311  Conservative  \n",
       "1312  Conservative  \n",
       "1313  Conservative  \n",
       "1314  Conservative  \n",
       "1315  Conservative  \n",
       "\n",
       "[1316 rows x 27 columns]"
      ]
     },
     "execution_count": 75,
     "metadata": {},
     "output_type": "execute_result"
    }
   ],
   "source": [
    "\n",
    "df"
   ]
  },
  {
   "cell_type": "code",
   "execution_count": null,
   "metadata": {},
   "outputs": [],
   "source": []
  },
  {
   "cell_type": "code",
   "execution_count": null,
   "metadata": {},
   "outputs": [
    {
     "data": {
      "application/vnd.jupyter.widget-view+json": {
       "model_id": "7f35bf66440f458b9a8487f2d5ae1cfe",
       "version_major": 2,
       "version_minor": 0
      },
      "text/plain": [
       "interactive(children=(ToggleButtons(description='Group by:', layout=Layout(width='50%'), options=('Orientation…"
      ]
     },
     "metadata": {},
     "output_type": "display_data"
    },
    {
     "data": {
      "text/plain": [
       "<function __main__.generate_multilevel_sankey(group_by, source_filter)>"
      ]
     },
     "execution_count": 12,
     "metadata": {},
     "output_type": "execute_result"
    }
   ],
   "source": [
    "import pandas as pd\n",
    "import plotly.graph_objects as go\n",
    "import ipywidgets as widgets\n",
    "from IPython.display import display\n",
    "\n",
    "# Load data\n",
    "emotion_df = pd.read_csv(\"deepface_emotions_combined.csv\")\n",
    "orientation_df = pd.read_csv(\"Political_Orientation_Data.csv\")\n",
    "df = pd.merge(emotion_df, orientation_df, on='Person', how='left')\n",
    "\n",
    "# Prepare columns\n",
    "df['Source'] = df['Folder'].apply(lambda x: 'Instagram' if x == 'Instagram' else 'News')\n",
    "df['Date'] = pd.to_datetime(df['Date'])\n",
    "df['Orientation'] = df['Left/Right'].apply(lambda x: 'Left' if x < 0 else 'Right')\n",
    "df['Ideology'] = df['Progressive/Conservative'].apply(lambda x: 'Progressive' if x > 0 else 'Conservative')\n",
    "\n",
    "# Widgets\n",
    "group_selector = widgets.ToggleButtons(\n",
    "    options=['Orientation', 'Ideology'],\n",
    "    value='Orientation',\n",
    "    description='Group by:',\n",
    "    layout=widgets.Layout(width='50%')\n",
    ")\n",
    "\n",
    "source_selector = widgets.ToggleButtons(\n",
    "    options=['All', 'Instagram', 'News'],\n",
    "    value='All',\n",
    "    description='Data Source:',\n",
    "    layout=widgets.Layout(width='50%')\n",
    ")\n",
    "\n",
    "def generate_multilevel_sankey(group_by, source_filter):\n",
    "    # Filter source\n",
    "    if source_filter != 'All':\n",
    "        sankey_df = df[df['Source'] == source_filter]\n",
    "    else:\n",
    "        sankey_df = df.copy()\n",
    "\n",
    "    # Aggregate flows: Emotion → Group → Person\n",
    "    grouped = sankey_df.groupby(['Dominant Emotion', group_by, 'Person']).size().reset_index(name='Count')\n",
    "\n",
    "    # Build label list\n",
    "    emotions = grouped['Dominant Emotion'].unique().tolist()\n",
    "    groups = grouped[group_by].unique().tolist()\n",
    "    persons = grouped['Person'].unique().tolist()\n",
    "    all_labels = emotions + groups + persons\n",
    "\n",
    "    label_to_index = {label: idx for idx, label in enumerate(all_labels)}\n",
    "\n",
    "    # Define emotion color palette\n",
    "    emotion_colors = {\n",
    "        'angry': '#D33F49',\n",
    "        'disgust': '#7DAF75',\n",
    "        'fear': '#735D78',\n",
    "        'happy': '#F4D35E',\n",
    "        'sad': '#577590',\n",
    "        'surprise': '#F18F01',\n",
    "        'neutral': '#B0BEC5'\n",
    "    }\n",
    "\n",
    "    node_colors = [emotion_colors.get(label, \"#E0E0E0\") for label in all_labels]\n",
    "    links_source = []\n",
    "    links_target = []\n",
    "    links_value = []\n",
    "    links_color = []\n",
    "\n",
    "    # First level: Emotion → Group\n",
    "    emotion_group = grouped.groupby(['Dominant Emotion', group_by])['Count'].sum().reset_index()\n",
    "    for _, row in emotion_group.iterrows():\n",
    "        source = label_to_index[row['Dominant Emotion']]\n",
    "        target = label_to_index[row[group_by]]\n",
    "        value = row['Count']\n",
    "        links_source.append(source)\n",
    "        links_target.append(target)\n",
    "        links_value.append(value)\n",
    "        links_color.append(emotion_colors.get(row['Dominant Emotion'], \"#cccccc\"))\n",
    "\n",
    "    # Second level: Group → Person\n",
    "    for _, row in grouped.iterrows():\n",
    "        source = label_to_index[row[group_by]]\n",
    "        target = label_to_index[row['Person']]\n",
    "        value = row['Count']\n",
    "        links_source.append(source)\n",
    "        links_target.append(target)\n",
    "        links_value.append(value)\n",
    "        links_color.append(emotion_colors.get(row['Dominant Emotion'], \"#cccccc\"))\n",
    "\n",
    "    # Build the Sankey\n",
    "    fig = go.Figure(data=[go.Sankey(\n",
    "        arrangement=\"snap\",\n",
    "        node=dict(\n",
    "            pad=20,\n",
    "            thickness=25,\n",
    "            line=dict(color=\"white\", width=1.5),\n",
    "            label=all_labels,\n",
    "            color=node_colors\n",
    "        ),\n",
    "        link=dict(\n",
    "            source=links_source,\n",
    "            target=links_target,\n",
    "            value=links_value,\n",
    "            color=links_color,\n",
    "            hovertemplate='From %{source.label} to %{target.label}: %{value} images<extra></extra>'\n",
    "        )\n",
    "    )])\n",
    "\n",
    "    fig.update_layout(\n",
    "        title_text=f\"Emotion → {group_by} → Politician (Source: {source_filter})\",\n",
    "        font_size=11,\n",
    "        plot_bgcolor='white',\n",
    "        paper_bgcolor='white',\n",
    "        margin=dict(l=0, r=0, t=60, b=0)\n",
    "    )\n",
    "\n",
    "    return fig\n",
    "\n",
    "\n",
    "# Hook up interactivity\n",
    "widgets.interact(generate_multilevel_sankey, group_by=group_selector, source_filter=source_selector)"
   ]
  },
  {
   "cell_type": "code",
   "execution_count": 8,
   "metadata": {},
   "outputs": [
    {
     "data": {
      "application/vnd.jupyter.widget-view+json": {
       "model_id": "9888722246a740afbb1af0361aa161a0",
       "version_major": 2,
       "version_minor": 0
      },
      "text/plain": [
       "interactive(children=(ToggleButtons(description='Group by:', layout=Layout(width='50%'), options=('Orientation…"
      ]
     },
     "metadata": {},
     "output_type": "display_data"
    },
    {
     "data": {
      "text/plain": [
       "<function __main__.generate_4level_sankey(group_by)>"
      ]
     },
     "execution_count": 8,
     "metadata": {},
     "output_type": "execute_result"
    }
   ],
   "source": [
    "import pandas as pd\n",
    "import plotly.graph_objects as go\n",
    "import ipywidgets as widgets\n",
    "from IPython.display import display\n",
    "\n",
    "# Load data\n",
    "emotion_df = pd.read_csv(\"deepface_emotions_combined.csv\")\n",
    "orientation_df = pd.read_csv(\"Political_Orientation_Data.csv\")\n",
    "df = pd.merge(emotion_df, orientation_df, on='Person', how='left')\n",
    "\n",
    "# Filter for Instagram only\n",
    "df['Source'] = df['Folder'].apply(lambda x: 'Instagram' if x == 'Instagram' else 'News')\n",
    "df = df[df['Source'] == 'Instagram'].copy()\n",
    "\n",
    "# Parse dates and assign election-based periods\n",
    "df['Date'] = pd.to_datetime(df['Date'])\n",
    "\n",
    "bins = pd.to_datetime(['2000-01-01', '2023-11-01', '2023-12-01', df['Date'].max()])\n",
    "labels = ['Before Election', 'Election Month', 'After Election']\n",
    "df['Time Period'] = pd.cut(df['Date'], bins=bins, labels=labels)\n",
    "\n",
    "\n",
    "# Political grouping columns\n",
    "df['Orientation'] = df['Left/Right'].apply(lambda x: 'Left' if x < 0 else 'Right')\n",
    "df['Ideology'] = df['Progressive/Conservative'].apply(lambda x: 'Progressive' if x > 0 else 'Conservative')\n",
    "\n",
    "# Emotion color palette\n",
    "emotion_colors = {\n",
    "    'angry': '#D33F49',\n",
    "    'disgust': '#7DAF75',\n",
    "    'fear': '#735D78',\n",
    "    'happy': '#F4D35E',\n",
    "    'sad': '#577590',\n",
    "    'surprise': '#F18F01',\n",
    "    'neutral': '#B0BEC5'\n",
    "}\n",
    "\n",
    "# Widget to choose grouping\n",
    "group_selector = widgets.ToggleButtons(\n",
    "    options=['Orientation', 'Ideology'],\n",
    "    value='Orientation',\n",
    "    description='Group by:',\n",
    "    layout=widgets.Layout(width='50%')\n",
    ")\n",
    "\n",
    "def generate_4level_sankey(group_by):\n",
    "    # Group data: Time Period → Emotion → Group → Person\n",
    "    grouped = df.groupby(['Time Period', 'Dominant Emotion', group_by, 'Person']).size().reset_index(name='Count')\n",
    "\n",
    "    # Build all unique labels\n",
    "    periods = grouped['Time Period'].dropna().unique().tolist()\n",
    "    emotions = grouped['Dominant Emotion'].unique().tolist()\n",
    "    groups = grouped[group_by].unique().tolist()\n",
    "    persons = grouped['Person'].unique().tolist()\n",
    "    all_labels = periods + emotions + groups + persons\n",
    "\n",
    "    label_to_index = {label: idx for idx, label in enumerate(all_labels)}\n",
    "\n",
    "    # Prepare link lists\n",
    "    sources, targets, values, link_colors = [], [], [], []\n",
    "\n",
    "    # Time → Emotion\n",
    "    step1 = grouped.groupby(['Time Period', 'Dominant Emotion'])['Count'].sum().reset_index()\n",
    "    for _, row in step1.iterrows():\n",
    "        sources.append(label_to_index[row['Time Period']])\n",
    "        targets.append(label_to_index[row['Dominant Emotion']])\n",
    "        values.append(row['Count'])\n",
    "        link_colors.append(emotion_colors.get(row['Dominant Emotion'], \"#cccccc\"))\n",
    "\n",
    "    # Emotion → Group\n",
    "    step2 = grouped.groupby(['Dominant Emotion', group_by])['Count'].sum().reset_index()\n",
    "    for _, row in step2.iterrows():\n",
    "        sources.append(label_to_index[row['Dominant Emotion']])\n",
    "        targets.append(label_to_index[row[group_by]])\n",
    "        values.append(row['Count'])\n",
    "        link_colors.append(emotion_colors.get(row['Dominant Emotion'], \"#cccccc\"))\n",
    "\n",
    "    # Group → Person\n",
    "    for _, row in grouped.iterrows():\n",
    "        sources.append(label_to_index[row[group_by]])\n",
    "        targets.append(label_to_index[row['Person']])\n",
    "        values.append(row['Count'])\n",
    "        link_colors.append(emotion_colors.get(row['Dominant Emotion'], \"#cccccc\"))\n",
    "\n",
    "    # Node colors\n",
    "    node_colors = [emotion_colors.get(label, \"#E0E0E0\") for label in all_labels]\n",
    "\n",
    "    # Build Sankey\n",
    "    fig = go.Figure(data=[go.Sankey(\n",
    "        arrangement=\"snap\",\n",
    "        node=dict(\n",
    "            pad=20,\n",
    "            thickness=25,\n",
    "            line=dict(color=\"white\", width=1.5),\n",
    "            label=all_labels,\n",
    "            color=node_colors\n",
    "        ),\n",
    "        link=dict(\n",
    "            source=sources,\n",
    "            target=targets,\n",
    "            value=values,\n",
    "            color=link_colors,\n",
    "            hovertemplate='From %{source.label} to %{target.label}: %{value} images<extra></extra>'\n",
    "        )\n",
    "    )])\n",
    "\n",
    "    fig.update_layout(\n",
    "        title_text=f\"Instagram Emotion Flow: Time → Emotion → {group_by} → Person\",\n",
    "        font_size=11,\n",
    "        plot_bgcolor='white',\n",
    "        paper_bgcolor='white',\n",
    "        height=600\n",
    "    )\n",
    "\n",
    "    fig.show()\n",
    "\n",
    "# Link widget to plotting\n",
    "widgets.interact(generate_4level_sankey, group_by=group_selector)\n"
   ]
  },
  {
   "cell_type": "code",
   "execution_count": null,
   "metadata": {},
   "outputs": [],
   "source": []
  }
 ],
 "metadata": {
  "kernelspec": {
   "display_name": "base",
   "language": "python",
   "name": "python3"
  },
  "language_info": {
   "codemirror_mode": {
    "name": "ipython",
    "version": 3
   },
   "file_extension": ".py",
   "mimetype": "text/x-python",
   "name": "python",
   "nbconvert_exporter": "python",
   "pygments_lexer": "ipython3",
   "version": "3.12.2"
  }
 },
 "nbformat": 4,
 "nbformat_minor": 2
}
